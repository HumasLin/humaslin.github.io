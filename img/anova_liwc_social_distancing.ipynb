{
 "cells": [
  {
   "cell_type": "code",
   "execution_count": 1,
   "metadata": {},
   "outputs": [],
   "source": [
    "import numpy as np\n",
    "import pandas as pd\n",
    "import matplotlib\n",
    "import matplotlib.pyplot as plt\n",
    "import statsmodels.api as sm\n",
    "from statsmodels.formula.api import ols\n",
    "from tqdm import tqdm_notebook\n",
    "from IPython.display import display, Markdown, Latex\n",
    "import warnings\n",
    "warnings.filterwarnings('ignore')\n",
    "pd.set_option('display.max_colwidth', -1)\n",
    "pd.set_option('display.float_format', lambda x: '%.3f' % x)\n",
    "pd.set_option('display.max_rows', 500)\n",
    "pd.set_option('display.max_columns', 500)\n",
    "pd.set_option('display.width', 1000)\n",
    "plt.rcParams.update({\n",
    "    \"text.usetex\": True,\n",
    "    \"font.family\": \"sans-serif\",\n",
    "    \"font.sans-serif\": [\"Helvetica\"]})\n",
    "%matplotlib inline\n",
    "print_all_flag=0\n",
    "significant=[]\n",
    "mydpi=600\n",
    "b=False\n",
    "s=18\n",
    "\n",
    "orange, purple, elm, grey ='#FFCC00', '#666599', '#217C7E', '#DCDCDC'\n",
    "\n",
    "__author__ = 'HK Dambanemuya, Haomin Lin'\n",
    "__version__ = 'Python3'"
   ]
  },
  {
   "cell_type": "code",
   "execution_count": 2,
   "metadata": {},
   "outputs": [],
   "source": [
    "sources = ['news', 'blogs', 'discussions']\n",
    "emotions = ['affect', 'posemo', 'negemo']\n",
    "sentiments = ['anx', 'anger', 'sad']\n",
    "cognitive_processes = ['certain', 'tentat', 'discrep']\n",
    "time_orientation = ['focuspast', 'focuspresent', 'focusfuture']"
   ]
  },
  {
   "cell_type": "code",
   "execution_count": 3,
   "metadata": {},
   "outputs": [
    {
     "data": {
      "text/html": [
       "<div>\n",
       "<style scoped>\n",
       "    .dataframe tbody tr th:only-of-type {\n",
       "        vertical-align: middle;\n",
       "    }\n",
       "\n",
       "    .dataframe tbody tr th {\n",
       "        vertical-align: top;\n",
       "    }\n",
       "\n",
       "    .dataframe thead th {\n",
       "        text-align: right;\n",
       "    }\n",
       "</style>\n",
       "<table border=\"1\" class=\"dataframe\">\n",
       "  <thead>\n",
       "    <tr style=\"text-align: right;\">\n",
       "      <th></th>\n",
       "      <th>Date</th>\n",
       "      <th>Topic</th>\n",
       "      <th>Platform</th>\n",
       "      <th>Source</th>\n",
       "      <th>Location</th>\n",
       "      <th>Analytic</th>\n",
       "      <th>Clout</th>\n",
       "      <th>Authentic</th>\n",
       "      <th>Tone</th>\n",
       "      <th>affect</th>\n",
       "      <th>posemo</th>\n",
       "      <th>negemo</th>\n",
       "      <th>anx</th>\n",
       "      <th>anger</th>\n",
       "      <th>sad</th>\n",
       "      <th>discrep</th>\n",
       "      <th>tentat</th>\n",
       "      <th>certain</th>\n",
       "      <th>focuspast</th>\n",
       "      <th>focuspresent</th>\n",
       "      <th>focusfuture</th>\n",
       "      <th>work</th>\n",
       "      <th>home</th>\n",
       "      <th>money</th>\n",
       "      <th>death</th>\n",
       "    </tr>\n",
       "  </thead>\n",
       "  <tbody>\n",
       "    <tr>\n",
       "      <td>0</td>\n",
       "      <td>2020-02-15</td>\n",
       "      <td>COVID, medical supplies</td>\n",
       "      <td>news</td>\n",
       "      <td>barnesville-enterprise</td>\n",
       "      <td>US</td>\n",
       "      <td>92.840</td>\n",
       "      <td>80.960</td>\n",
       "      <td>7.440</td>\n",
       "      <td>19.140</td>\n",
       "      <td>7.430</td>\n",
       "      <td>3.420</td>\n",
       "      <td>3.860</td>\n",
       "      <td>1.490</td>\n",
       "      <td>1.630</td>\n",
       "      <td>0.150</td>\n",
       "      <td>1.930</td>\n",
       "      <td>2.080</td>\n",
       "      <td>0.590</td>\n",
       "      <td>3.860</td>\n",
       "      <td>6.690</td>\n",
       "      <td>0.590</td>\n",
       "      <td>4.160</td>\n",
       "      <td>0.450</td>\n",
       "      <td>0.450</td>\n",
       "      <td>0.300</td>\n",
       "    </tr>\n",
       "    <tr>\n",
       "      <td>1</td>\n",
       "      <td>2020-02-17</td>\n",
       "      <td>COVID, medical supplies</td>\n",
       "      <td>news</td>\n",
       "      <td>people</td>\n",
       "      <td>CN</td>\n",
       "      <td>99.000</td>\n",
       "      <td>68.920</td>\n",
       "      <td>17.670</td>\n",
       "      <td>60.880</td>\n",
       "      <td>3.090</td>\n",
       "      <td>2.470</td>\n",
       "      <td>0.620</td>\n",
       "      <td>0.000</td>\n",
       "      <td>0.620</td>\n",
       "      <td>0.000</td>\n",
       "      <td>0.620</td>\n",
       "      <td>0.620</td>\n",
       "      <td>0.620</td>\n",
       "      <td>1.850</td>\n",
       "      <td>4.320</td>\n",
       "      <td>2.470</td>\n",
       "      <td>12.350</td>\n",
       "      <td>0.620</td>\n",
       "      <td>0.000</td>\n",
       "      <td>0.620</td>\n",
       "    </tr>\n",
       "    <tr>\n",
       "      <td>2</td>\n",
       "      <td>2020-02-15</td>\n",
       "      <td>COVID, medical supplies</td>\n",
       "      <td>news</td>\n",
       "      <td>ecns</td>\n",
       "      <td>CN</td>\n",
       "      <td>98.510</td>\n",
       "      <td>69.460</td>\n",
       "      <td>24.850</td>\n",
       "      <td>31.060</td>\n",
       "      <td>2.600</td>\n",
       "      <td>1.450</td>\n",
       "      <td>1.140</td>\n",
       "      <td>0.210</td>\n",
       "      <td>0.520</td>\n",
       "      <td>0.100</td>\n",
       "      <td>0.420</td>\n",
       "      <td>1.140</td>\n",
       "      <td>0.310</td>\n",
       "      <td>4.050</td>\n",
       "      <td>3.630</td>\n",
       "      <td>0.830</td>\n",
       "      <td>8.720</td>\n",
       "      <td>0.620</td>\n",
       "      <td>2.800</td>\n",
       "      <td>0.930</td>\n",
       "    </tr>\n",
       "    <tr>\n",
       "      <td>3</td>\n",
       "      <td>2020-02-17</td>\n",
       "      <td>COVID, medical supplies</td>\n",
       "      <td>news</td>\n",
       "      <td>independent</td>\n",
       "      <td>NG</td>\n",
       "      <td>98.140</td>\n",
       "      <td>60.950</td>\n",
       "      <td>6.770</td>\n",
       "      <td>13.280</td>\n",
       "      <td>2.780</td>\n",
       "      <td>0.930</td>\n",
       "      <td>1.850</td>\n",
       "      <td>0.000</td>\n",
       "      <td>0.930</td>\n",
       "      <td>0.930</td>\n",
       "      <td>0.000</td>\n",
       "      <td>1.850</td>\n",
       "      <td>0.000</td>\n",
       "      <td>0.930</td>\n",
       "      <td>6.480</td>\n",
       "      <td>0.930</td>\n",
       "      <td>5.560</td>\n",
       "      <td>0.000</td>\n",
       "      <td>0.930</td>\n",
       "      <td>1.850</td>\n",
       "    </tr>\n",
       "    <tr>\n",
       "      <td>4</td>\n",
       "      <td>2020-02-16</td>\n",
       "      <td>COVID, medical supplies</td>\n",
       "      <td>news</td>\n",
       "      <td>yahoo</td>\n",
       "      <td>US</td>\n",
       "      <td>91.820</td>\n",
       "      <td>52.880</td>\n",
       "      <td>30.770</td>\n",
       "      <td>38.570</td>\n",
       "      <td>0.720</td>\n",
       "      <td>0.720</td>\n",
       "      <td>0.000</td>\n",
       "      <td>0.000</td>\n",
       "      <td>0.000</td>\n",
       "      <td>0.000</td>\n",
       "      <td>0.000</td>\n",
       "      <td>2.160</td>\n",
       "      <td>0.720</td>\n",
       "      <td>2.880</td>\n",
       "      <td>9.350</td>\n",
       "      <td>0.000</td>\n",
       "      <td>3.600</td>\n",
       "      <td>0.000</td>\n",
       "      <td>1.440</td>\n",
       "      <td>0.000</td>\n",
       "    </tr>\n",
       "  </tbody>\n",
       "</table>\n",
       "</div>"
      ],
      "text/plain": [
       "         Date                    Topic Platform                  Source Location  Analytic  Clout  Authentic   Tone  affect  posemo  negemo   anx  anger   sad  discrep  tentat  certain  focuspast  focuspresent  focusfuture   work  home  money  death\n",
       "0  2020-02-15  COVID, medical supplies  news     barnesville-enterprise  US      92.840    80.960 7.440      19.140 7.430   3.420   3.860   1.490 1.630  0.150 1.930    2.080   0.590    3.860      6.690         0.590        4.160  0.450 0.450  0.300 \n",
       "1  2020-02-17  COVID, medical supplies  news     people                  CN      99.000    68.920 17.670     60.880 3.090   2.470   0.620   0.000 0.620  0.000 0.620    0.620   0.620    1.850      4.320         2.470        12.350 0.620 0.000  0.620 \n",
       "2  2020-02-15  COVID, medical supplies  news     ecns                    CN      98.510    69.460 24.850     31.060 2.600   1.450   1.140   0.210 0.520  0.100 0.420    1.140   0.310    4.050      3.630         0.830        8.720  0.620 2.800  0.930 \n",
       "3  2020-02-17  COVID, medical supplies  news     independent             NG      98.140    60.950 6.770      13.280 2.780   0.930   1.850   0.000 0.930  0.930 0.000    1.850   0.000    0.930      6.480         0.930        5.560  0.000 0.930  1.850 \n",
       "4  2020-02-16  COVID, medical supplies  news     yahoo                   US      91.820    52.880 30.770     38.570 0.720   0.720   0.000   0.000 0.000  0.000 0.000    2.160   0.720    2.880      9.350         0.000        3.600  0.000 1.440  0.000 "
      ]
     },
     "execution_count": 3,
     "metadata": {},
     "output_type": "execute_result"
    }
   ],
   "source": [
    "liwc_complete = pd.read_csv(\"liwc_results.csv\")\n",
    "liwc_complete = liwc_complete.drop(columns=['B','C'])\n",
    "liwc_complete = liwc_complete.rename(columns={\"A\": \"Date\", \"D\": \"Topic\", \"E\": \"Platform\",\"F\": \"Source\", \"G\": \"Location\"})\n",
    "liwc_complete.loc[liwc_complete.Location=='GB', 'Location'] = 'UK'\n",
    "liwc_complete.head()"
   ]
  },
  {
   "cell_type": "code",
   "execution_count": 35,
   "metadata": {},
   "outputs": [],
   "source": [
    "def get_mean_std(dimensions, liwc, liwc_compare):  \n",
    "    for measure in dimensions:\n",
    "        anova_analysis = get_daily_measure_scores(measure, liwc) \n",
    "        anova_compare = get_daily_measure_scores(measure, liwc_compare)\n",
    "        prefix,suffix = '',''\n",
    "        mean_liwc = round(anova_analysis['value'].mean(), 3)\n",
    "        std_liwc = round(anova_analysis['value'].std(), 3)\n",
    "        mean_compare = round(anova_compare['value'].mean(), 3)\n",
    "        std_compare = round(anova_compare['value'].std(), 3)\n",
    "        if measure in significant:\n",
    "            prefix,suffix = '\\033[91m','\\033[0m'\n",
    "        print(\"{}\".format(prefix)+\"   {:<8}\\t{}({})\\t{}({})\".format(measure,mean_liwc,std_liwc,mean_compare,std_compare)+\"{}\".format(suffix))"
   ]
  },
  {
   "cell_type": "code",
   "execution_count": 5,
   "metadata": {},
   "outputs": [],
   "source": [
    "def get_daily_measure_scores(measure, liwc):\n",
    "    dates = sorted(set(liwc['Date']))\n",
    "    source = liwc[field].unique()[0]\n",
    "    data_daily = []\n",
    "    for date in dates:\n",
    "        data_daily.append(liwc[liwc['Date'] == date][measure].mean())\n",
    "    data_df = pd.DataFrame()\n",
    "    data_df['index'] = range(0,len(data_daily))\n",
    "    data_df['treatments'] = [source]*len(data_daily)\n",
    "    data_df['value'] = data_daily\n",
    "    return data_df.fillna(0)"
   ]
  },
  {
   "cell_type": "code",
   "execution_count": 6,
   "metadata": {},
   "outputs": [],
   "source": [
    "def get_anova_results_daily_aggregate(dimensions, liwc, liwc_compare):\n",
    "    for measure in dimensions:\n",
    "        anova_analysis_df = get_daily_measure_scores(measure, liwc) \n",
    "        anova_compare_df = get_daily_measure_scores(measure, liwc_compare)\n",
    "        anova_df = pd.concat([anova_analysis_df.reset_index(),\n",
    "                              anova_compare_df.reset_index()])\n",
    "        # Ordinary Least Squares (OLS) model\n",
    "        model = ols('value ~ C(treatments)', data=anova_df).fit()\n",
    "        anova_table = sm.stats.anova_lm(model, typ=2)\n",
    "        if anova_table['PR(>F)'].iloc[0]<0.05 or print_all_flag:\n",
    "            print ('\\n',measure)\n",
    "            print (\"===================================\")\n",
    "            print (anova_table)\n",
    "            significant.append(measure)"
   ]
  },
  {
   "cell_type": "markdown",
   "metadata": {},
   "source": [
    "## Social distancing vs. all others"
   ]
  },
  {
   "cell_type": "code",
   "execution_count": 7,
   "metadata": {},
   "outputs": [],
   "source": [
    "field = 'Topic'"
   ]
  },
  {
   "cell_type": "code",
   "execution_count": 8,
   "metadata": {},
   "outputs": [
    {
     "name": "stdout",
     "output_type": "stream",
     "text": [
      "social distancing: 711883, others: 435143\n"
     ]
    }
   ],
   "source": [
    "liwc = liwc_complete[liwc_complete['Topic'].str.contains('recommendations') | liwc_complete['Topic'].str.contains('restrictions')]\n",
    "liwc['Topic'] = 'social distancing'\n",
    "drop_index = liwc.index\n",
    "liwc_compare = liwc_complete.drop(drop_index)\n",
    "liwc_compare['Topic'] = 'all other topics'\n",
    "print(\"social distancing: {}, others: {}\".format(liwc.shape[0], liwc_compare.shape[0]))"
   ]
  },
  {
   "cell_type": "code",
   "execution_count": 9,
   "metadata": {},
   "outputs": [
    {
     "data": {
      "text/markdown": [
       "### Emotions"
      ],
      "text/plain": [
       "<IPython.core.display.Markdown object>"
      ]
     },
     "metadata": {},
     "output_type": "display_data"
    },
    {
     "name": "stdout",
     "output_type": "stream",
     "text": [
      "\n",
      " negemo\n",
      "===================================\n",
      "               sum_sq      df     F  PR(>F)\n",
      "C(treatments) 0.926   1.000   4.408 0.037  \n",
      "Residual      42.658  203.000 nan   nan    \n"
     ]
    },
    {
     "data": {
      "text/markdown": [
       "### Sentiments"
      ],
      "text/plain": [
       "<IPython.core.display.Markdown object>"
      ]
     },
     "metadata": {},
     "output_type": "display_data"
    },
    {
     "name": "stdout",
     "output_type": "stream",
     "text": [
      "\n",
      " anger\n",
      "===================================\n",
      "               sum_sq      df      F  PR(>F)\n",
      "C(treatments) 0.136   1.000   12.935 0.000  \n",
      "Residual      2.139   203.000 nan    nan    \n"
     ]
    },
    {
     "data": {
      "text/markdown": [
       "### Cognitive Processes"
      ],
      "text/plain": [
       "<IPython.core.display.Markdown object>"
      ]
     },
     "metadata": {},
     "output_type": "display_data"
    },
    {
     "name": "stdout",
     "output_type": "stream",
     "text": [
      "\n",
      " tentat\n",
      "===================================\n",
      "               sum_sq      df      F  PR(>F)\n",
      "C(treatments) 4.841   1.000   19.211 0.000  \n",
      "Residual      51.156  203.000 nan    nan    \n"
     ]
    },
    {
     "data": {
      "text/markdown": [
       "### Time Orientation"
      ],
      "text/plain": [
       "<IPython.core.display.Markdown object>"
      ]
     },
     "metadata": {},
     "output_type": "display_data"
    },
    {
     "name": "stdout",
     "output_type": "stream",
     "text": [
      "\n",
      " focusfuture\n",
      "===================================\n",
      "               sum_sq      df     F  PR(>F)\n",
      "C(treatments) 0.827   1.000   9.726 0.002  \n",
      "Residual      17.260  203.000 nan   nan    \n"
     ]
    }
   ],
   "source": [
    "display(Markdown('### Emotions'))\n",
    "get_anova_results_daily_aggregate(emotions, liwc, liwc_compare)\n",
    "\n",
    "display(Markdown('### Sentiments'))\n",
    "get_anova_results_daily_aggregate(sentiments, liwc, liwc_compare)\n",
    "\n",
    "display(Markdown('### Cognitive Processes'))\n",
    "get_anova_results_daily_aggregate(cognitive_processes, liwc, liwc_compare)\n",
    "\n",
    "display(Markdown('### Time Orientation'))\n",
    "get_anova_results_daily_aggregate(time_orientation, liwc, liwc_compare)"
   ]
  },
  {
   "cell_type": "code",
   "execution_count": 10,
   "metadata": {},
   "outputs": [
    {
     "name": "stdout",
     "output_type": "stream",
     "text": [
      "\t      social distancing\tall other topics\n",
      "Emotions\n",
      "   affect  \t3.212(0.683)\t3.28(0.672)\n",
      "   posemo  \t1.598(0.506)\t1.524(0.511)\n",
      "\u001b[1m   negemo  \t1.569(0.601)\t1.704(0.304)\u001b[0m\n",
      "Sentiments\n",
      "   anx     \t0.462(0.107)\t0.487(0.161)\n",
      "\u001b[1m   anger   \t0.284(0.101)\t0.336(0.104)\u001b[0m\n",
      "   sad     \t0.279(0.074)\t0.26(0.076)\n",
      "Cognitive Processes\n",
      "   certain \t0.889(0.275)\t0.871(0.238)\n",
      "\u001b[1m   tentat  \t1.872(0.443)\t2.182(0.544)\u001b[0m\n",
      "   discrep \t0.98(0.28)\t0.905(0.287)\n",
      "Time Orientation\n",
      "   focuspast\t3.555(0.757)\t3.373(1.123)\n",
      "   focuspresent\t7.087(1.243)\t7.174(1.139)\n",
      "\u001b[1m   focusfuture\t1.064(0.344)\t0.936(0.243)\u001b[0m\n"
     ]
    }
   ],
   "source": [
    "print(\"\\t      {:>5}\\t{:<5}\".format(liwc[field].unique()[0],liwc_compare[field].unique()[0]))\n",
    "print('Emotions')\n",
    "get_mean_std(emotions, liwc, liwc_compare)\n",
    "\n",
    "print('Sentiments')\n",
    "get_mean_std(sentiments, liwc, liwc_compare)\n",
    "\n",
    "print('Cognitive Processes')\n",
    "get_mean_std(cognitive_processes, liwc, liwc_compare)\n",
    "\n",
    "print('Time Orientation')\n",
    "get_mean_std(time_orientation, liwc, liwc_compare)"
   ]
  },
  {
   "cell_type": "markdown",
   "metadata": {},
   "source": [
    "### US vs. All others"
   ]
  },
  {
   "cell_type": "code",
   "execution_count": 11,
   "metadata": {},
   "outputs": [],
   "source": [
    "field = 'Location'"
   ]
  },
  {
   "cell_type": "code",
   "execution_count": 12,
   "metadata": {},
   "outputs": [
    {
     "name": "stdout",
     "output_type": "stream",
     "text": [
      "US: 500096, others: 211787\n"
     ]
    }
   ],
   "source": [
    "liwc_analysis = liwc[liwc['Location']=='US']\n",
    "drop_index = liwc_analysis.index\n",
    "liwc_other = liwc.drop(drop_index)\n",
    "liwc_other['Location'] = 'all other locations'\n",
    "print(\"US: {}, others: {}\".format(liwc_analysis.shape[0], liwc_other.shape[0]))"
   ]
  },
  {
   "cell_type": "code",
   "execution_count": 13,
   "metadata": {},
   "outputs": [
    {
     "data": {
      "text/markdown": [
       "### Emotions"
      ],
      "text/plain": [
       "<IPython.core.display.Markdown object>"
      ]
     },
     "metadata": {},
     "output_type": "display_data"
    },
    {
     "name": "stdout",
     "output_type": "stream",
     "text": [
      "\n",
      " posemo\n",
      "===================================\n",
      "               sum_sq      df     F  PR(>F)\n",
      "C(treatments) 0.826   1.000   3.960 0.048  \n",
      "Residual      34.191  164.000 nan   nan    \n"
     ]
    },
    {
     "data": {
      "text/markdown": [
       "### Sentiments"
      ],
      "text/plain": [
       "<IPython.core.display.Markdown object>"
      ]
     },
     "metadata": {},
     "output_type": "display_data"
    },
    {
     "name": "stdout",
     "output_type": "stream",
     "text": [
      "\n",
      " sad\n",
      "===================================\n",
      "               sum_sq      df     F  PR(>F)\n",
      "C(treatments) 0.036   1.000   6.597 0.011  \n",
      "Residual      0.883   164.000 nan   nan    \n"
     ]
    },
    {
     "data": {
      "text/markdown": [
       "### Cognitive Processes"
      ],
      "text/plain": [
       "<IPython.core.display.Markdown object>"
      ]
     },
     "metadata": {},
     "output_type": "display_data"
    },
    {
     "name": "stdout",
     "output_type": "stream",
     "text": [
      "\n",
      " tentat\n",
      "===================================\n",
      "               sum_sq      df     F  PR(>F)\n",
      "C(treatments) 1.576   1.000   9.879 0.002  \n",
      "Residual      26.157  164.000 nan   nan    \n"
     ]
    },
    {
     "data": {
      "text/markdown": [
       "### Time Orientation"
      ],
      "text/plain": [
       "<IPython.core.display.Markdown object>"
      ]
     },
     "metadata": {},
     "output_type": "display_data"
    },
    {
     "name": "stdout",
     "output_type": "stream",
     "text": [
      "\n",
      " focuspresent\n",
      "===================================\n",
      "               sum_sq      df     F  PR(>F)\n",
      "C(treatments) 8.373   1.000   6.676 0.011  \n",
      "Residual      205.696 164.000 nan   nan    \n"
     ]
    }
   ],
   "source": [
    "significant = []\n",
    "\n",
    "display(Markdown('### Emotions'))\n",
    "get_anova_results_daily_aggregate(emotions,liwc_analysis,liwc_other)\n",
    "\n",
    "display(Markdown('### Sentiments'))\n",
    "get_anova_results_daily_aggregate(sentiments,liwc_analysis,liwc_other)\n",
    "\n",
    "display(Markdown('### Cognitive Processes'))\n",
    "get_anova_results_daily_aggregate(cognitive_processes,liwc_analysis,liwc_other)\n",
    "\n",
    "display(Markdown('### Time Orientation'))\n",
    "get_anova_results_daily_aggregate(time_orientation,liwc_analysis,liwc_other)"
   ]
  },
  {
   "cell_type": "code",
   "execution_count": 14,
   "metadata": {},
   "outputs": [
    {
     "name": "stdout",
     "output_type": "stream",
     "text": [
      "\t\tUS\t\tall other locations\n",
      "Emotions\n",
      "   affect  \t3.208(0.561)\t3.127(0.61)\n",
      "\u001b[1m   posemo  \t1.655(0.493)\t1.514(0.416)\u001b[0m\n",
      "   negemo  \t1.505(0.222)\t1.57(0.619)\n",
      "Sentiments\n",
      "   anx     \t0.469(0.109)\t0.466(0.11)\n",
      "   anger   \t0.294(0.101)\t0.265(0.091)\n",
      "\u001b[1m   sad     \t0.273(0.063)\t0.302(0.083)\u001b[0m\n",
      "Cognitive Processes\n",
      "   certain \t0.94(0.23)\t0.881(0.255)\n",
      "\u001b[1m   tentat  \t1.961(0.408)\t1.766(0.39)\u001b[0m\n",
      "   discrep \t1.006(0.242)\t1.0(0.288)\n",
      "Time Orientation\n",
      "   focuspast\t3.528(0.721)\t3.67(0.752)\n",
      "\u001b[1m   focuspresent\t7.363(0.967)\t6.914(1.258)\u001b[0m\n",
      "   focusfuture\t1.117(0.251)\t1.063(0.373)\n"
     ]
    }
   ],
   "source": [
    "print(\"\\t\\t{}\\t\\t{}\".format(liwc_analysis[field].unique()[0],liwc_other[field].unique()[0]))\n",
    "print('Emotions')\n",
    "get_mean_std(emotions, liwc_analysis, liwc_other)\n",
    "\n",
    "print('Sentiments')\n",
    "get_mean_std(sentiments, liwc_analysis, liwc_other)\n",
    "\n",
    "print('Cognitive Processes')\n",
    "get_mean_std(cognitive_processes, liwc_analysis, liwc_other)\n",
    "\n",
    "print('Time Orientation')\n",
    "get_mean_std(time_orientation, liwc_analysis, liwc_other)"
   ]
  },
  {
   "cell_type": "markdown",
   "metadata": {},
   "source": [
    "### UK vs. All others"
   ]
  },
  {
   "cell_type": "code",
   "execution_count": 15,
   "metadata": {},
   "outputs": [
    {
     "name": "stdout",
     "output_type": "stream",
     "text": [
      "UK: 55510, others: 656373\n"
     ]
    }
   ],
   "source": [
    "liwc_analysis = liwc[liwc['Location']=='UK']\n",
    "drop_index = liwc_analysis.index\n",
    "liwc_other = liwc.drop(drop_index)\n",
    "liwc_other['Location'] = 'all other locations'\n",
    "print(\"UK: {}, others: {}\".format(liwc_analysis.shape[0], liwc_other.shape[0]))"
   ]
  },
  {
   "cell_type": "code",
   "execution_count": 16,
   "metadata": {},
   "outputs": [
    {
     "data": {
      "text/markdown": [
       "### Emotions"
      ],
      "text/plain": [
       "<IPython.core.display.Markdown object>"
      ]
     },
     "metadata": {},
     "output_type": "display_data"
    },
    {
     "data": {
      "text/markdown": [
       "### Sentiments"
      ],
      "text/plain": [
       "<IPython.core.display.Markdown object>"
      ]
     },
     "metadata": {},
     "output_type": "display_data"
    },
    {
     "name": "stdout",
     "output_type": "stream",
     "text": [
      "\n",
      " anx\n",
      "===================================\n",
      "               sum_sq      df      F  PR(>F)\n",
      "C(treatments) 0.378   1.000   16.067 0.000  \n",
      "Residual      3.742   159.000 nan    nan    \n",
      "\n",
      " anger\n",
      "===================================\n",
      "               sum_sq      df     F  PR(>F)\n",
      "C(treatments) 0.050   1.000   4.805 0.030  \n",
      "Residual      1.652   159.000 nan   nan    \n",
      "\n",
      " sad\n",
      "===================================\n",
      "               sum_sq      df      F  PR(>F)\n",
      "C(treatments) 0.471   1.000   51.085 0.000  \n",
      "Residual      1.466   159.000 nan    nan    \n"
     ]
    },
    {
     "data": {
      "text/markdown": [
       "### Cognitive Processes"
      ],
      "text/plain": [
       "<IPython.core.display.Markdown object>"
      ]
     },
     "metadata": {},
     "output_type": "display_data"
    },
    {
     "name": "stdout",
     "output_type": "stream",
     "text": [
      "\n",
      " certain\n",
      "===================================\n",
      "               sum_sq      df     F  PR(>F)\n",
      "C(treatments) 0.574   1.000   7.958 0.005  \n",
      "Residual      11.477  159.000 nan   nan    \n",
      "\n",
      " tentat\n",
      "===================================\n",
      "               sum_sq      df      F  PR(>F)\n",
      "C(treatments) 1.807   1.000   10.050 0.002  \n",
      "Residual      28.592  159.000 nan    nan    \n",
      "\n",
      " discrep\n",
      "===================================\n",
      "               sum_sq      df      F  PR(>F)\n",
      "C(treatments) 3.181   1.000   32.076 0.000  \n",
      "Residual      15.769  159.000 nan    nan    \n"
     ]
    },
    {
     "data": {
      "text/markdown": [
       "### Time Orientation"
      ],
      "text/plain": [
       "<IPython.core.display.Markdown object>"
      ]
     },
     "metadata": {},
     "output_type": "display_data"
    },
    {
     "name": "stdout",
     "output_type": "stream",
     "text": [
      "\n",
      " focuspresent\n",
      "===================================\n",
      "               sum_sq      df      F  PR(>F)\n",
      "C(treatments) 39.771  1.000   30.139 0.000  \n",
      "Residual      209.812 159.000 nan    nan    \n",
      "\n",
      " focusfuture\n",
      "===================================\n",
      "               sum_sq      df     F  PR(>F)\n",
      "C(treatments) 0.800   1.000   6.217 0.014  \n",
      "Residual      20.457  159.000 nan   nan    \n"
     ]
    }
   ],
   "source": [
    "significant=[]\n",
    "\n",
    "display(Markdown('### Emotions'))\n",
    "get_anova_results_daily_aggregate(emotions,liwc_analysis,liwc_other)\n",
    "\n",
    "display(Markdown('### Sentiments'))\n",
    "get_anova_results_daily_aggregate(sentiments,liwc_analysis,liwc_other)\n",
    "\n",
    "display(Markdown('### Cognitive Processes'))\n",
    "get_anova_results_daily_aggregate(cognitive_processes,liwc_analysis,liwc_other)\n",
    "\n",
    "display(Markdown('### Time Orientation'))\n",
    "get_anova_results_daily_aggregate(time_orientation,liwc_analysis,liwc_other)"
   ]
  },
  {
   "cell_type": "code",
   "execution_count": 17,
   "metadata": {},
   "outputs": [
    {
     "name": "stdout",
     "output_type": "stream",
     "text": [
      "\t\tUK\t\tall other locations\n",
      "Emotions\n",
      "   affect  \t3.279(0.548)\t3.194(0.704)\n",
      "   posemo  \t1.614(0.469)\t1.592(0.513)\n",
      "   negemo  \t1.625(0.283)\t1.556(0.61)\n",
      "Sentiments\n",
      "\u001b[1m   anx     \t0.551(0.191)\t0.453(0.115)\u001b[0m\n",
      "\u001b[1m   anger   \t0.25(0.1)\t0.286(0.103)\u001b[0m\n",
      "\u001b[1m   sad     \t0.38(0.119)\t0.271(0.073)\u001b[0m\n",
      "Cognitive Processes\n",
      "\u001b[1m   certain \t1.003(0.257)\t0.882(0.278)\u001b[0m\n",
      "\u001b[1m   tentat  \t2.069(0.385)\t1.855(0.452)\u001b[0m\n",
      "\u001b[1m   discrep \t1.247(0.361)\t0.964(0.273)\u001b[0m\n",
      "Time Orientation\n",
      "   focuspast\t3.719(0.818)\t3.542(0.757)\n",
      "\u001b[1m   focuspresent\t8.037(1.023)\t7.036(1.238)\u001b[0m\n",
      "\u001b[1m   focusfuture\t1.201(0.382)\t1.059(0.34)\u001b[0m\n"
     ]
    }
   ],
   "source": [
    "print(\"\\t\\t{}\\t\\t{}\".format(liwc_analysis[field].unique()[0],liwc_other[field].unique()[0]))\n",
    "print('Emotions')\n",
    "get_mean_std(emotions, liwc_analysis, liwc_other)\n",
    "\n",
    "print('Sentiments')\n",
    "get_mean_std(sentiments, liwc_analysis, liwc_other)\n",
    "\n",
    "print('Cognitive Processes')\n",
    "get_mean_std(cognitive_processes, liwc_analysis, liwc_other)\n",
    "\n",
    "print('Time Orientation')\n",
    "get_mean_std(time_orientation, liwc_analysis, liwc_other)"
   ]
  },
  {
   "cell_type": "markdown",
   "metadata": {},
   "source": [
    "### US & UK vs. All others"
   ]
  },
  {
   "cell_type": "code",
   "execution_count": 18,
   "metadata": {},
   "outputs": [
    {
     "name": "stdout",
     "output_type": "stream",
     "text": [
      "US & UK: 555606, others: 156277\n"
     ]
    }
   ],
   "source": [
    "liwc_analysis = liwc[(liwc['Location']=='US') | (liwc['Location']=='UK')]\n",
    "drop_index = liwc_analysis.index\n",
    "liwc_other = liwc.drop(drop_index)\n",
    "liwc_other['Location'] = 'all other locations'\n",
    "print(\"US & UK: {}, others: {}\".format(liwc_analysis.shape[0], liwc_other.shape[0]))"
   ]
  },
  {
   "cell_type": "code",
   "execution_count": 19,
   "metadata": {},
   "outputs": [
    {
     "data": {
      "text/markdown": [
       "### Emotions"
      ],
      "text/plain": [
       "<IPython.core.display.Markdown object>"
      ]
     },
     "metadata": {},
     "output_type": "display_data"
    },
    {
     "name": "stdout",
     "output_type": "stream",
     "text": [
      "\n",
      " posemo\n",
      "===================================\n",
      "               sum_sq      df     F  PR(>F)\n",
      "C(treatments) 1.089   1.000   5.360 0.022  \n",
      "Residual      33.512  165.000 nan   nan    \n"
     ]
    },
    {
     "data": {
      "text/markdown": [
       "### Sentiments"
      ],
      "text/plain": [
       "<IPython.core.display.Markdown object>"
      ]
     },
     "metadata": {},
     "output_type": "display_data"
    },
    {
     "name": "stdout",
     "output_type": "stream",
     "text": [
      "\n",
      " anx\n",
      "===================================\n",
      "               sum_sq      df     F  PR(>F)\n",
      "C(treatments) 0.055   1.000   4.412 0.037  \n",
      "Residual      2.058   165.000 nan   nan    \n"
     ]
    },
    {
     "data": {
      "text/markdown": [
       "### Cognitive Processes"
      ],
      "text/plain": [
       "<IPython.core.display.Markdown object>"
      ]
     },
     "metadata": {},
     "output_type": "display_data"
    },
    {
     "name": "stdout",
     "output_type": "stream",
     "text": [
      "\n",
      " certain\n",
      "===================================\n",
      "               sum_sq      df     F  PR(>F)\n",
      "C(treatments) 0.261   1.000   4.282 0.040  \n",
      "Residual      10.064  165.000 nan   nan    \n",
      "\n",
      " tentat\n",
      "===================================\n",
      "               sum_sq      df      F  PR(>F)\n",
      "C(treatments) 3.544   1.000   22.355 0.000  \n",
      "Residual      26.158  165.000 nan    nan    \n",
      "\n",
      " discrep\n",
      "===================================\n",
      "               sum_sq      df     F  PR(>F)\n",
      "C(treatments) 0.287   1.000   4.305 0.040  \n",
      "Residual      10.993  165.000 nan   nan    \n"
     ]
    },
    {
     "data": {
      "text/markdown": [
       "### Time Orientation"
      ],
      "text/plain": [
       "<IPython.core.display.Markdown object>"
      ]
     },
     "metadata": {},
     "output_type": "display_data"
    },
    {
     "name": "stdout",
     "output_type": "stream",
     "text": [
      "\n",
      " focuspresent\n",
      "===================================\n",
      "               sum_sq      df      F  PR(>F)\n",
      "C(treatments) 22.961  1.000   17.486 0.000  \n",
      "Residual      216.660 165.000 nan    nan    \n"
     ]
    }
   ],
   "source": [
    "significant=[]\n",
    "\n",
    "display(Markdown('### Emotions'))\n",
    "get_anova_results_daily_aggregate(emotions,liwc_analysis,liwc_other)\n",
    "\n",
    "display(Markdown('### Sentiments'))\n",
    "get_anova_results_daily_aggregate(sentiments,liwc_analysis,liwc_other)\n",
    "\n",
    "display(Markdown('### Cognitive Processes'))\n",
    "get_anova_results_daily_aggregate(cognitive_processes,liwc_analysis,liwc_other)\n",
    "\n",
    "display(Markdown('### Time Orientation'))\n",
    "get_anova_results_daily_aggregate(time_orientation,liwc_analysis,liwc_other)"
   ]
  },
  {
   "cell_type": "code",
   "execution_count": 20,
   "metadata": {},
   "outputs": [
    {
     "name": "stdout",
     "output_type": "stream",
     "text": [
      "\t\tUS\t\tall other locations\n",
      "Emotions\n",
      "   affect  \t3.22(0.541)\t3.064(0.645)\n",
      "\u001b[1m   posemo  \t1.651(0.489)\t1.49(0.407)\u001b[0m\n",
      "   negemo  \t1.522(0.208)\t1.529(0.639)\n",
      "Sentiments\n",
      "\u001b[1m   anx     \t0.48(0.104)\t0.444(0.119)\u001b[0m\n",
      "   anger   \t0.291(0.099)\t0.268(0.093)\n",
      "   sad     \t0.283(0.069)\t0.283(0.081)\n",
      "Cognitive Processes\n",
      "\u001b[1m   certain \t0.94(0.238)\t0.861(0.256)\u001b[0m\n",
      "\u001b[1m   tentat  \t1.98(0.4)\t1.689(0.396)\u001b[0m\n",
      "\u001b[1m   discrep \t1.023(0.255)\t0.94(0.261)\u001b[0m\n",
      "Time Orientation\n",
      "   focuspast\t3.548(0.686)\t3.645(0.806)\n",
      "\u001b[1m   focuspresent\t7.4(0.975)\t6.658(1.299)\u001b[0m\n",
      "   focusfuture\t1.11(0.281)\t1.037(0.357)\n"
     ]
    }
   ],
   "source": [
    "print(\"\\t\\t{}\\t\\t{}\".format(liwc_analysis[field].unique()[0],liwc_other[field].unique()[0]))\n",
    "print('Emotions')\n",
    "get_mean_std(emotions, liwc_analysis, liwc_other)\n",
    "\n",
    "print('Sentiments')\n",
    "get_mean_std(sentiments, liwc_analysis, liwc_other)\n",
    "\n",
    "print('Cognitive Processes')\n",
    "get_mean_std(cognitive_processes, liwc_analysis, liwc_other)\n",
    "\n",
    "print('Time Orientation')\n",
    "get_mean_std(time_orientation, liwc_analysis, liwc_other)"
   ]
  },
  {
   "cell_type": "markdown",
   "metadata": {},
   "source": [
    "### US vs. UK\n"
   ]
  },
  {
   "cell_type": "code",
   "execution_count": 21,
   "metadata": {},
   "outputs": [
    {
     "name": "stdout",
     "output_type": "stream",
     "text": [
      "US: 500096, UK: 55510\n"
     ]
    }
   ],
   "source": [
    "liwc_us = liwc[liwc['Location']=='US']\n",
    "liwc_uk = liwc[liwc['Location']=='UK']\n",
    "print(\"US: {}, UK: {}\".format(liwc_us.shape[0], liwc_uk.shape[0]))"
   ]
  },
  {
   "cell_type": "code",
   "execution_count": 22,
   "metadata": {},
   "outputs": [
    {
     "data": {
      "text/markdown": [
       "### Emotions"
      ],
      "text/plain": [
       "<IPython.core.display.Markdown object>"
      ]
     },
     "metadata": {},
     "output_type": "display_data"
    },
    {
     "name": "stdout",
     "output_type": "stream",
     "text": [
      "\n",
      " negemo\n",
      "===================================\n",
      "               sum_sq      df     F  PR(>F)\n",
      "C(treatments) 0.549   1.000   8.660 0.004  \n",
      "Residual      9.695   153.000 nan   nan    \n"
     ]
    },
    {
     "data": {
      "text/markdown": [
       "### Sentiments"
      ],
      "text/plain": [
       "<IPython.core.display.Markdown object>"
      ]
     },
     "metadata": {},
     "output_type": "display_data"
    },
    {
     "name": "stdout",
     "output_type": "stream",
     "text": [
      "\n",
      " anx\n",
      "===================================\n",
      "               sum_sq      df      F  PR(>F)\n",
      "C(treatments) 0.259   1.000   11.183 0.001  \n",
      "Residual      3.547   153.000 nan    nan    \n",
      "\n",
      " anger\n",
      "===================================\n",
      "               sum_sq      df     F  PR(>F)\n",
      "C(treatments) 0.073   1.000   7.204 0.008  \n",
      "Residual      1.548   153.000 nan   nan    \n",
      "\n",
      " sad\n",
      "===================================\n",
      "               sum_sq      df      F  PR(>F)\n",
      "C(treatments) 0.441   1.000   51.304 0.000  \n",
      "Residual      1.314   153.000 nan    nan    \n"
     ]
    },
    {
     "data": {
      "text/markdown": [
       "### Cognitive Processes"
      ],
      "text/plain": [
       "<IPython.core.display.Markdown object>"
      ]
     },
     "metadata": {},
     "output_type": "display_data"
    },
    {
     "name": "stdout",
     "output_type": "stream",
     "text": [
      "\n",
      " discrep\n",
      "===================================\n",
      "               sum_sq      df      F  PR(>F)\n",
      "C(treatments) 2.231   1.000   24.360 0.000  \n",
      "Residual      14.009  153.000 nan    nan    \n"
     ]
    },
    {
     "data": {
      "text/markdown": [
       "### Time Orientation"
      ],
      "text/plain": [
       "<IPython.core.display.Markdown object>"
      ]
     },
     "metadata": {},
     "output_type": "display_data"
    },
    {
     "name": "stdout",
     "output_type": "stream",
     "text": [
      "\n",
      " focuspresent\n",
      "===================================\n",
      "               sum_sq      df      F  PR(>F)\n",
      "C(treatments) 17.486  1.000   17.731 0.000  \n",
      "Residual      150.891 153.000 nan    nan    \n"
     ]
    }
   ],
   "source": [
    "significant=[]\n",
    "\n",
    "display(Markdown('### Emotions'))\n",
    "get_anova_results_daily_aggregate(emotions,liwc_us,liwc_uk)\n",
    "\n",
    "display(Markdown('### Sentiments'))\n",
    "get_anova_results_daily_aggregate(sentiments,liwc_us,liwc_uk)\n",
    "\n",
    "display(Markdown('### Cognitive Processes'))\n",
    "get_anova_results_daily_aggregate(cognitive_processes,liwc_us,liwc_uk)\n",
    "\n",
    "display(Markdown('### Time Orientation'))\n",
    "get_anova_results_daily_aggregate(time_orientation,liwc_us,liwc_uk)"
   ]
  },
  {
   "cell_type": "code",
   "execution_count": 23,
   "metadata": {},
   "outputs": [
    {
     "name": "stdout",
     "output_type": "stream",
     "text": [
      "\t\tUS\t\tUK\n",
      "Emotions\n",
      "   affect  \t3.208(0.561)\t3.279(0.548)\n",
      "   posemo  \t1.655(0.493)\t1.614(0.469)\n",
      "\u001b[1m   negemo  \t1.505(0.222)\t1.625(0.283)\u001b[0m\n",
      "Sentiments\n",
      "\u001b[1m   anx     \t0.469(0.109)\t0.551(0.191)\u001b[0m\n",
      "\u001b[1m   anger   \t0.294(0.101)\t0.25(0.1)\u001b[0m\n",
      "\u001b[1m   sad     \t0.273(0.063)\t0.38(0.119)\u001b[0m\n",
      "Cognitive Processes\n",
      "   certain \t0.94(0.23)\t1.003(0.257)\n",
      "   tentat  \t1.961(0.408)\t2.069(0.385)\n",
      "\u001b[1m   discrep \t1.006(0.242)\t1.247(0.361)\u001b[0m\n",
      "Time Orientation\n",
      "   focuspast\t3.528(0.721)\t3.719(0.818)\n",
      "\u001b[1m   focuspresent\t7.363(0.967)\t8.037(1.023)\u001b[0m\n",
      "   focusfuture\t1.117(0.251)\t1.201(0.382)\n"
     ]
    }
   ],
   "source": [
    "print(\"\\t\\t{}\\t\\t{}\".format(liwc_us[field].unique()[0],liwc_uk[field].unique()[0]))\n",
    "print('Emotions')\n",
    "get_mean_std(emotions, liwc_us, liwc_uk)\n",
    "\n",
    "print('Sentiments')\n",
    "get_mean_std(sentiments, liwc_us, liwc_uk)\n",
    "\n",
    "print('Cognitive Processes')\n",
    "get_mean_std(cognitive_processes, liwc_us, liwc_uk)\n",
    "\n",
    "print('Time Orientation')\n",
    "get_mean_std(time_orientation, liwc_us, liwc_uk)"
   ]
  },
  {
   "cell_type": "markdown",
   "metadata": {},
   "source": [
    "### *Separate Platform*"
   ]
  },
  {
   "cell_type": "markdown",
   "metadata": {},
   "source": [
    "### News"
   ]
  },
  {
   "cell_type": "code",
   "execution_count": 24,
   "metadata": {},
   "outputs": [
    {
     "name": "stdout",
     "output_type": "stream",
     "text": [
      "US (news): 331250, UK (news): 42834\n"
     ]
    }
   ],
   "source": [
    "liwc_us_platform = liwc_us[liwc_us['Platform']=='news']\n",
    "liwc_uk_platform = liwc_uk[liwc_uk['Platform']=='news']\n",
    "print(\"US (news): {}, UK (news): {}\".format(liwc_us_platform.shape[0], liwc_uk_platform.shape[0]))"
   ]
  },
  {
   "cell_type": "code",
   "execution_count": 25,
   "metadata": {},
   "outputs": [
    {
     "data": {
      "text/markdown": [
       "### Emotions"
      ],
      "text/plain": [
       "<IPython.core.display.Markdown object>"
      ]
     },
     "metadata": {},
     "output_type": "display_data"
    },
    {
     "name": "stdout",
     "output_type": "stream",
     "text": [
      "\n",
      " affect\n",
      "===================================\n",
      "               sum_sq      df     F  PR(>F)\n",
      "C(treatments) 1.227   1.000   3.923 0.049  \n",
      "Residual      46.909  150.000 nan   nan    \n",
      "\n",
      " negemo\n",
      "===================================\n",
      "               sum_sq      df      F  PR(>F)\n",
      "C(treatments) 1.673   1.000   25.612 0.000  \n",
      "Residual      9.796   150.000 nan    nan    \n"
     ]
    },
    {
     "data": {
      "text/markdown": [
       "### Sentiments"
      ],
      "text/plain": [
       "<IPython.core.display.Markdown object>"
      ]
     },
     "metadata": {},
     "output_type": "display_data"
    },
    {
     "name": "stdout",
     "output_type": "stream",
     "text": [
      "\n",
      " anx\n",
      "===================================\n",
      "               sum_sq      df      F  PR(>F)\n",
      "C(treatments) 0.380   1.000   15.386 0.000  \n",
      "Residual      3.702   150.000 nan    nan    \n",
      "\n",
      " sad\n",
      "===================================\n",
      "               sum_sq      df      F  PR(>F)\n",
      "C(treatments) 0.565   1.000   61.526 0.000  \n",
      "Residual      1.378   150.000 nan    nan    \n"
     ]
    },
    {
     "data": {
      "text/markdown": [
       "### Cognitive Processes"
      ],
      "text/plain": [
       "<IPython.core.display.Markdown object>"
      ]
     },
     "metadata": {},
     "output_type": "display_data"
    },
    {
     "name": "stdout",
     "output_type": "stream",
     "text": [
      "\n",
      " discrep\n",
      "===================================\n",
      "               sum_sq      df      F  PR(>F)\n",
      "C(treatments) 1.940   1.000   23.480 0.000  \n",
      "Residual      12.393  150.000 nan    nan    \n"
     ]
    },
    {
     "data": {
      "text/markdown": [
       "### Time Orientation"
      ],
      "text/plain": [
       "<IPython.core.display.Markdown object>"
      ]
     },
     "metadata": {},
     "output_type": "display_data"
    },
    {
     "name": "stdout",
     "output_type": "stream",
     "text": [
      "\n",
      " focuspresent\n",
      "===================================\n",
      "               sum_sq      df      F  PR(>F)\n",
      "C(treatments) 14.782  1.000   18.281 0.000  \n",
      "Residual      121.294 150.000 nan    nan    \n"
     ]
    }
   ],
   "source": [
    "significant=[]\n",
    "\n",
    "display(Markdown('### Emotions'))\n",
    "get_anova_results_daily_aggregate(emotions,liwc_us_platform,liwc_uk_platform)\n",
    "\n",
    "display(Markdown('### Sentiments'))\n",
    "get_anova_results_daily_aggregate(sentiments,liwc_us_platform,liwc_uk_platform)\n",
    "\n",
    "display(Markdown('### Cognitive Processes'))\n",
    "get_anova_results_daily_aggregate(cognitive_processes,liwc_us_platform,liwc_uk_platform)\n",
    "\n",
    "display(Markdown('### Time Orientation'))\n",
    "get_anova_results_daily_aggregate(time_orientation,liwc_us_platform,liwc_uk_platform)"
   ]
  },
  {
   "cell_type": "code",
   "execution_count": 26,
   "metadata": {},
   "outputs": [
    {
     "name": "stdout",
     "output_type": "stream",
     "text": [
      "\t\tUS\t\tUK\n",
      "Emotions\n",
      "\u001b[1m   affect  \t3.109(0.565)\t3.289(0.553)\u001b[0m\n",
      "   posemo  \t1.626(0.489)\t1.603(0.493)\n",
      "\u001b[1m   negemo  \t1.434(0.236)\t1.644(0.276)\u001b[0m\n",
      "Sentiments\n",
      "\u001b[1m   anx     \t0.461(0.113)\t0.561(0.196)\u001b[0m\n",
      "   anger   \t0.264(0.09)\t0.255(0.094)\n",
      "\u001b[1m   sad     \t0.27(0.067)\t0.392(0.121)\u001b[0m\n",
      "Cognitive Processes\n",
      "   certain \t0.917(0.238)\t0.982(0.261)\n",
      "   tentat  \t1.873(0.318)\t1.976(0.318)\n",
      "\u001b[1m   discrep \t0.98(0.223)\t1.207(0.346)\u001b[0m\n",
      "Time Orientation\n",
      "   focuspast\t3.629(0.586)\t3.816(0.749)\n",
      "\u001b[1m   focuspresent\t7.242(0.781)\t7.867(1.018)\u001b[0m\n",
      "   focusfuture\t1.105(0.254)\t1.193(0.385)\n"
     ]
    }
   ],
   "source": [
    "print(\"\\t\\t{}\\t\\t{}\".format(liwc_us_platform[field].unique()[0],liwc_uk_platform[field].unique()[0]))\n",
    "print('Emotions')\n",
    "get_mean_std(emotions, liwc_us_platform, liwc_uk_platform)\n",
    "\n",
    "print('Sentiments')\n",
    "get_mean_std(sentiments, liwc_us_platform, liwc_uk_platform)\n",
    "\n",
    "print('Cognitive Processes')\n",
    "get_mean_std(cognitive_processes, liwc_us_platform, liwc_uk_platform)\n",
    "\n",
    "print('Time Orientation')\n",
    "get_mean_std(time_orientation, liwc_us_platform, liwc_uk_platform)"
   ]
  },
  {
   "cell_type": "markdown",
   "metadata": {},
   "source": [
    "### Blogs"
   ]
  },
  {
   "cell_type": "code",
   "execution_count": 27,
   "metadata": {},
   "outputs": [
    {
     "name": "stdout",
     "output_type": "stream",
     "text": [
      "US (blogs): 143880, UK (blogs): 10377\n"
     ]
    }
   ],
   "source": [
    "liwc_us_platform = liwc_us[liwc_us['Platform']=='blogs']\n",
    "liwc_uk_platform = liwc_uk[liwc_uk['Platform']=='blogs']\n",
    "print(\"US (blogs): {}, UK (blogs): {}\".format(liwc_us_platform.shape[0], liwc_uk_platform.shape[0]))"
   ]
  },
  {
   "cell_type": "code",
   "execution_count": 28,
   "metadata": {},
   "outputs": [
    {
     "data": {
      "text/markdown": [
       "### Emotions"
      ],
      "text/plain": [
       "<IPython.core.display.Markdown object>"
      ]
     },
     "metadata": {},
     "output_type": "display_data"
    },
    {
     "name": "stdout",
     "output_type": "stream",
     "text": [
      "\n",
      " affect\n",
      "===================================\n",
      "               sum_sq      df     F  PR(>F)\n",
      "C(treatments) 2.098   1.000   6.304 0.013  \n",
      "Residual      45.933  138.000 nan   nan    \n"
     ]
    },
    {
     "data": {
      "text/markdown": [
       "### Sentiments"
      ],
      "text/plain": [
       "<IPython.core.display.Markdown object>"
      ]
     },
     "metadata": {},
     "output_type": "display_data"
    },
    {
     "name": "stdout",
     "output_type": "stream",
     "text": [
      "\n",
      " anger\n",
      "===================================\n",
      "               sum_sq      df      F  PR(>F)\n",
      "C(treatments) 0.489   1.000   21.083 0.000  \n",
      "Residual      3.203   138.000 nan    nan    \n",
      "\n",
      " sad\n",
      "===================================\n",
      "               sum_sq      df      F  PR(>F)\n",
      "C(treatments) 0.414   1.000   37.088 0.000  \n",
      "Residual      1.541   138.000 nan    nan    \n"
     ]
    },
    {
     "data": {
      "text/markdown": [
       "### Cognitive Processes"
      ],
      "text/plain": [
       "<IPython.core.display.Markdown object>"
      ]
     },
     "metadata": {},
     "output_type": "display_data"
    },
    {
     "name": "stdout",
     "output_type": "stream",
     "text": [
      "\n",
      " tentat\n",
      "===================================\n",
      "               sum_sq      df     F  PR(>F)\n",
      "C(treatments) 0.792   1.000   4.233 0.042  \n",
      "Residual      25.815  138.000 nan   nan    \n",
      "\n",
      " discrep\n",
      "===================================\n",
      "               sum_sq      df     F  PR(>F)\n",
      "C(treatments) 0.766   1.000   7.068 0.009  \n",
      "Residual      14.964  138.000 nan   nan    \n"
     ]
    },
    {
     "data": {
      "text/markdown": [
       "### Time Orientation"
      ],
      "text/plain": [
       "<IPython.core.display.Markdown object>"
      ]
     },
     "metadata": {},
     "output_type": "display_data"
    },
    {
     "name": "stdout",
     "output_type": "stream",
     "text": [
      "\n",
      " focuspast\n",
      "===================================\n",
      "               sum_sq      df      F  PR(>F)\n",
      "C(treatments) 15.759  1.000   26.799 0.000  \n",
      "Residual      81.151  138.000 nan    nan    \n",
      "\n",
      " focusfuture\n",
      "===================================\n",
      "               sum_sq      df     F  PR(>F)\n",
      "C(treatments) 0.516   1.000   4.555 0.035  \n",
      "Residual      15.632  138.000 nan   nan    \n"
     ]
    }
   ],
   "source": [
    "significant=[]\n",
    "\n",
    "display(Markdown('### Emotions'))\n",
    "get_anova_results_daily_aggregate(emotions,liwc_us_platform,liwc_uk_platform)\n",
    "\n",
    "display(Markdown('### Sentiments'))\n",
    "get_anova_results_daily_aggregate(sentiments,liwc_us_platform,liwc_uk_platform)\n",
    "\n",
    "display(Markdown('### Cognitive Processes'))\n",
    "get_anova_results_daily_aggregate(cognitive_processes,liwc_us_platform,liwc_uk_platform)\n",
    "\n",
    "display(Markdown('### Time Orientation'))\n",
    "get_anova_results_daily_aggregate(time_orientation,liwc_us_platform,liwc_uk_platform)"
   ]
  },
  {
   "cell_type": "code",
   "execution_count": 29,
   "metadata": {},
   "outputs": [
    {
     "name": "stdout",
     "output_type": "stream",
     "text": [
      "\t\tUS\t\tUK\n",
      "Emotions\n",
      "\u001b[1m   affect  \t3.43(0.399)\t3.185(0.726)\u001b[0m\n",
      "   posemo  \t1.756(0.429)\t1.612(0.585)\n",
      "   negemo  \t1.625(0.251)\t1.531(0.322)\n",
      "Sentiments\n",
      "   anx     \t0.487(0.103)\t0.508(0.213)\n",
      "\u001b[1m   anger   \t0.352(0.17)\t0.234(0.129)\u001b[0m\n",
      "\u001b[1m   sad     \t0.283(0.062)\t0.392(0.139)\u001b[0m\n",
      "Cognitive Processes\n",
      "   certain \t1.0(0.204)\t1.038(0.271)\n",
      "\u001b[1m   tentat  \t2.097(0.356)\t1.947(0.505)\u001b[0m\n",
      "\u001b[1m   discrep \t1.038(0.216)\t1.186(0.421)\u001b[0m\n",
      "Time Orientation\n",
      "\u001b[1m   focuspast\t3.22(0.574)\t3.892(0.937)\u001b[0m\n",
      "   focuspresent\t7.532(1.046)\t7.736(1.25)\n",
      "\u001b[1m   focusfuture\t1.133(0.212)\t1.255(0.436)\u001b[0m\n"
     ]
    }
   ],
   "source": [
    "print(\"\\t\\t{}\\t\\t{}\".format(liwc_us_platform[field].unique()[0],liwc_uk_platform[field].unique()[0]))\n",
    "print('Emotions')\n",
    "get_mean_std(emotions, liwc_us_platform, liwc_uk_platform)\n",
    "\n",
    "print('Sentiments')\n",
    "get_mean_std(sentiments, liwc_us_platform, liwc_uk_platform)\n",
    "\n",
    "print('Cognitive Processes')\n",
    "get_mean_std(cognitive_processes, liwc_us_platform, liwc_uk_platform)\n",
    "\n",
    "print('Time Orientation')\n",
    "get_mean_std(time_orientation, liwc_us_platform, liwc_uk_platform)"
   ]
  },
  {
   "cell_type": "markdown",
   "metadata": {},
   "source": [
    "### Discussions"
   ]
  },
  {
   "cell_type": "code",
   "execution_count": 30,
   "metadata": {},
   "outputs": [
    {
     "name": "stdout",
     "output_type": "stream",
     "text": [
      "US (blogs): 24966, UK (blogs): 2299\n"
     ]
    }
   ],
   "source": [
    "liwc_us_platform = liwc_us[liwc_us['Platform']=='discussions']\n",
    "liwc_uk_platform = liwc_uk[liwc_uk['Platform']=='discussions']\n",
    "print(\"US (blogs): {}, UK (blogs): {}\".format(liwc_us_platform.shape[0], liwc_uk_platform.shape[0]))"
   ]
  },
  {
   "cell_type": "code",
   "execution_count": 31,
   "metadata": {},
   "outputs": [
    {
     "data": {
      "text/markdown": [
       "### Emotions"
      ],
      "text/plain": [
       "<IPython.core.display.Markdown object>"
      ]
     },
     "metadata": {},
     "output_type": "display_data"
    },
    {
     "name": "stdout",
     "output_type": "stream",
     "text": [
      "\n",
      " posemo\n",
      "===================================\n",
      "               sum_sq      df     F  PR(>F)\n",
      "C(treatments) 1.684   1.000   7.533 0.007  \n",
      "Residual      27.494  123.000 nan   nan    \n"
     ]
    },
    {
     "data": {
      "text/markdown": [
       "### Sentiments"
      ],
      "text/plain": [
       "<IPython.core.display.Markdown object>"
      ]
     },
     "metadata": {},
     "output_type": "display_data"
    },
    {
     "name": "stdout",
     "output_type": "stream",
     "text": [
      "\n",
      " anger\n",
      "===================================\n",
      "               sum_sq      df     F  PR(>F)\n",
      "C(treatments) 0.282   1.000   4.104 0.045  \n",
      "Residual      8.461   123.000 nan   nan    \n"
     ]
    },
    {
     "data": {
      "text/markdown": [
       "### Cognitive Processes"
      ],
      "text/plain": [
       "<IPython.core.display.Markdown object>"
      ]
     },
     "metadata": {},
     "output_type": "display_data"
    },
    {
     "name": "stdout",
     "output_type": "stream",
     "text": [
      "\n",
      " certain\n",
      "===================================\n",
      "               sum_sq      df      F  PR(>F)\n",
      "C(treatments) 1.650   1.000   10.861 0.001  \n",
      "Residual      18.686  123.000 nan    nan    \n",
      "\n",
      " tentat\n",
      "===================================\n",
      "               sum_sq      df      F  PR(>F)\n",
      "C(treatments) 27.338  1.000   44.136 0.000  \n",
      "Residual      76.186  123.000 nan    nan    \n",
      "\n",
      " discrep\n",
      "===================================\n",
      "               sum_sq      df      F  PR(>F)\n",
      "C(treatments) 18.320  1.000   84.409 0.000  \n",
      "Residual      26.696  123.000 nan    nan    \n"
     ]
    },
    {
     "data": {
      "text/markdown": [
       "### Time Orientation"
      ],
      "text/plain": [
       "<IPython.core.display.Markdown object>"
      ]
     },
     "metadata": {},
     "output_type": "display_data"
    },
    {
     "name": "stdout",
     "output_type": "stream",
     "text": [
      "\n",
      " focuspast\n",
      "===================================\n",
      "               sum_sq      df      F  PR(>F)\n",
      "C(treatments) 13.613  1.000   11.347 0.001  \n",
      "Residual      147.569 123.000 nan    nan    \n",
      "\n",
      " focuspresent\n",
      "===================================\n",
      "               sum_sq      df      F  PR(>F)\n",
      "C(treatments) 284.302 1.000   71.062 0.000  \n",
      "Residual      492.097 123.000 nan    nan    \n",
      "\n",
      " focusfuture\n",
      "===================================\n",
      "               sum_sq      df      F  PR(>F)\n",
      "C(treatments) 4.925   1.000   24.158 0.000  \n",
      "Residual      25.077  123.000 nan    nan    \n"
     ]
    }
   ],
   "source": [
    "significant=[]\n",
    "\n",
    "display(Markdown('### Emotions'))\n",
    "get_anova_results_daily_aggregate(emotions,liwc_us_platform,liwc_uk_platform)\n",
    "\n",
    "display(Markdown('### Sentiments'))\n",
    "get_anova_results_daily_aggregate(sentiments,liwc_us_platform,liwc_uk_platform)\n",
    "\n",
    "display(Markdown('### Cognitive Processes'))\n",
    "get_anova_results_daily_aggregate(cognitive_processes,liwc_us_platform,liwc_uk_platform)\n",
    "\n",
    "display(Markdown('### Time Orientation'))\n",
    "get_anova_results_daily_aggregate(time_orientation,liwc_us_platform,liwc_uk_platform)"
   ]
  },
  {
   "cell_type": "code",
   "execution_count": 36,
   "metadata": {},
   "outputs": [
    {
     "name": "stdout",
     "output_type": "stream",
     "text": [
      "\t\tUS\t\tUK\n",
      "Emotions\n",
      "   affect  \t3.59(0.557)\t3.826(0.915)\n",
      "\u001b[91m   posemo  \t1.64(0.496)\t1.876(0.438)\u001b[0m\n",
      "   negemo  \t1.905(0.323)\t1.924(0.834)\n",
      "Sentiments\n",
      "   anx     \t0.526(0.125)\t0.655(0.691)\n",
      "\u001b[91m   anger   \t0.401(0.133)\t0.305(0.375)\u001b[0m\n",
      "   sad     \t0.305(0.098)\t0.35(0.252)\n",
      "Cognitive Processes\n",
      "\u001b[91m   certain \t1.14(0.29)\t1.373(0.498)\u001b[0m\n",
      "\u001b[91m   tentat  \t2.512(0.532)\t3.461(1.046)\u001b[0m\n",
      "\u001b[91m   discrep \t1.314(0.358)\t2.091(0.586)\u001b[0m\n",
      "Time Orientation\n",
      "\u001b[91m   focuspast\t3.297(0.92)\t2.627(1.304)\u001b[0m\n",
      "\u001b[91m   focuspresent\t8.875(1.708)\t11.935(2.352)\u001b[0m\n",
      "\u001b[91m   focusfuture\t1.286(0.311)\t1.688(0.596)\u001b[0m\n"
     ]
    }
   ],
   "source": [
    "print(\"\\t\\t{}\\t\\t{}\".format(liwc_us_platform[field].unique()[0],liwc_uk_platform[field].unique()[0]))\n",
    "print('Emotions')\n",
    "get_mean_std(emotions, liwc_us_platform, liwc_uk_platform)\n",
    "\n",
    "print('Sentiments')\n",
    "get_mean_std(sentiments, liwc_us_platform, liwc_uk_platform)\n",
    "\n",
    "print('Cognitive Processes')\n",
    "get_mean_std(cognitive_processes, liwc_us_platform, liwc_uk_platform)\n",
    "\n",
    "print('Time Orientation')\n",
    "get_mean_std(time_orientation, liwc_us_platform, liwc_uk_platform)"
   ]
  }
 ],
 "metadata": {
  "kernelspec": {
   "display_name": "Python 3",
   "language": "python",
   "name": "python3"
  },
  "language_info": {
   "codemirror_mode": {
    "name": "ipython",
    "version": 3
   },
   "file_extension": ".py",
   "mimetype": "text/x-python",
   "name": "python",
   "nbconvert_exporter": "python",
   "pygments_lexer": "ipython3",
   "version": "3.7.4"
  }
 },
 "nbformat": 4,
 "nbformat_minor": 4
}
